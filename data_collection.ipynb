{
 "cells": [
  {
   "cell_type": "markdown",
   "id": "0effaaac",
   "metadata": {},
   "source": [
    "# Сбор данных"
   ]
  },
  {
   "cell_type": "code",
   "execution_count": null,
   "id": "17dadad4",
   "metadata": {},
   "outputs": [],
   "source": [
    "import requests\n",
    "from tqdm.auto import tqdm\n",
    "from datetime import datetime\n",
    "import pandas as pd\n",
    "import pymysql\n",
    "import mysql.connector\n",
    "from mysql.connector import Error\n",
    "import json\n",
    "import re"
   ]
  },
  {
   "cell_type": "code",
   "execution_count": null,
   "id": "61b6b730",
   "metadata": {},
   "outputs": [],
   "source": [
    "TOKEN = *********\n",
    "VERSION = \"5.130\""
   ]
  },
  {
   "cell_type": "code",
   "execution_count": null,
   "id": "39a0bb94",
   "metadata": {},
   "outputs": [],
   "source": [
    "wall_get_url = \"https://api.vk.com/method/wall.get\"\n",
    "get_comments_url = \"https://api.vk.com/method/wall.getComments\"\n",
    "users_get_url = \"https://api.vk.com/method/users.get\""
   ]
  },
  {
   "cell_type": "code",
   "execution_count": null,
   "id": "7a5aa143",
   "metadata": {},
   "outputs": [],
   "source": [
    "group_id = {1: {'name': 'Лентач', 'id': -29534144}, \n",
    "            {2: {'name': 'Палата N6', 'id': -56106344},\n",
    "            {3: {'name': 'РиаНовости', 'id': -15755094}}"
   ]
  },
  {
   "cell_type": "markdown",
   "id": "9d8bf5c2",
   "metadata": {},
   "source": [
    "Соберём функции для обкачки постов, комментариев и информации о пользователях."
   ]
  },
  {
   "cell_type": "code",
   "execution_count": null,
   "id": "b2fbfc2b",
   "metadata": {},
   "outputs": [],
   "source": [
    "def get_posts(group, count, glob):    \n",
    "    all_the_data = []\n",
    "    offs = []\n",
    "    for i in range(0+glob, count+glob, 100):\n",
    "        offs.append(i)\n",
    "    for off in offs:\n",
    "        data = requests.get(\n",
    "            wall_get_url, \n",
    "            params={\n",
    "                \"owner_id\": group, #group - айди группы, начинается с минуса\n",
    "                \"count\": 100,\n",
    "                \"v\": VERSION,\n",
    "                \"access_token\": TOKEN,\n",
    "                \"offset\": off, \n",
    "            }\n",
    "        ).json()\n",
    "        if 'response' in data.keys():\n",
    "            all_the_data.extend(data['response']['items'])\n",
    "    return all_the_data\n",
    "\n",
    "\n",
    "def get_comments(group, post_id):\n",
    "    all_coms = []\n",
    "    data_com = requests.get(\n",
    "        get_comments_url, \n",
    "        params={\n",
    "            \"owner_id\": group,\n",
    "            \"post_id\": post_id,\n",
    "            \"v\": VERSION,\n",
    "            \"access_token\": TOKEN,\n",
    "            \"thread_items_count\": 10\n",
    "        }\n",
    "    ).json()\n",
    "    if 'response' in data_com.keys():\n",
    "        return data_com['response']['items']\n",
    "    return None\n",
    "\n",
    "\n",
    "def get_user_info(needed_ids):\n",
    "    user_infos = []\n",
    "    for user_id in tqdm(needed_ids):\n",
    "        user_info = requests.get(\n",
    "            users_get_url,\n",
    "            params={\n",
    "                'user_ids': user_id,\n",
    "                'fields': 'sex,bdate',\n",
    "                'access_token': TOKEN,\n",
    "                'v': VERSION\n",
    "            }\n",
    "        ).json()\n",
    "        user_infos.append(user_info)\n",
    "    return user_infos"
   ]
  },
  {
   "cell_type": "markdown",
   "id": "73284a85",
   "metadata": {},
   "source": [
    "Выкачаем посты из наших групп"
   ]
  },
  {
   "cell_type": "code",
   "execution_count": null,
   "id": "925a5ee7",
   "metadata": {},
   "outputs": [],
   "source": [
    "posts_collection = {}\n",
    "all_comments_collection = {}\n",
    "\n",
    "\n",
    "for public in group_id.items():\n",
    "    name = public[1]['name']\n",
    "    vk_id_group = public[1]['id']\n",
    "    comms = []\n",
    "    posts_collection[name] = get_posts(vk_id_group, 1700, 0)\n",
    "    for i in tqdm(range(1, 90)):\n",
    "        posts_collection[name].extend(get_posts(vk_id_group, 1700, 1700*i))  "
   ]
  },
  {
   "cell_type": "markdown",
   "id": "f178d904",
   "metadata": {},
   "source": [
    "Все посты сохраним в один json-файл."
   ]
  },
  {
   "cell_type": "code",
   "execution_count": null,
   "id": "efa2ff10",
   "metadata": {},
   "outputs": [],
   "source": [
    "import json\n",
    "with open('posts.json', 'w', encoding='utf-8') as f:\n",
    "    json.dump(posts_collection, f)"
   ]
  },
  {
   "cell_type": "markdown",
   "id": "59736f25",
   "metadata": {},
   "source": [
    "Дальше посты из каждой из группы обрабатывались по отдельности"
   ]
  },
  {
   "cell_type": "code",
   "execution_count": null,
   "id": "de62788d",
   "metadata": {},
   "outputs": [],
   "source": [
    "for public in group_id.items():\n",
    "    all_comments = {}\n",
    "    name = public[1]['name']\n",
    "    all_posts = posts_collection[name]\n",
    "    vk_id_group = public[1]['id']\n",
    "    for post in tqdm(all_posts):\n",
    "        comments = get_comments(post['from_id'], post['id'])\n",
    "        all_comments[post['id']] = comments "
   ]
  },
  {
   "cell_type": "code",
   "execution_count": null,
   "id": "624d32b5",
   "metadata": {},
   "outputs": [],
   "source": [
    "with open('ria_coms.json', 'w', encoding='utf-8') as f:\n",
    "    json.dump(all_comments, f)\n",
    "    \n",
    "with open('palata_coms.json', 'w', encoding='utf-8') as f:\n",
    "    json.dump(all_comments, f)\n",
    "    \n",
    "with open('lentach_coms.json', 'w', encoding='utf-8') as f:\n",
    "    json.dump(all_comments, f)"
   ]
  },
  {
   "cell_type": "code",
   "execution_count": null,
   "id": "a2ec82c5",
   "metadata": {},
   "outputs": [],
   "source": [
    "with open('lentach_coms.json', 'r', encoding='utf-8') as file:\n",
    "    lentach_data = json.load(file)\n",
    "    \n",
    "with open('palata_coms.json', 'r', encoding='utf-8') as file:\n",
    "    palata_data = json.load(file)\n",
    "    \n",
    "with open('ria_coms.json', 'r', encoding='utf-8') as file:\n",
    "    ria_data = json.load(file)"
   ]
  },
  {
   "cell_type": "markdown",
   "id": "e695500c",
   "metadata": {},
   "source": [
    "Приведём json в формат списка"
   ]
  },
  {
   "cell_type": "code",
   "execution_count": null,
   "id": "eb7b1c0a",
   "metadata": {},
   "outputs": [],
   "source": [
    "def json_to_list(js, name):\n",
    "    coms = []\n",
    "    for s_coms in tqdm(js.values()):\n",
    "        if s_coms:\n",
    "            for com in s_coms:\n",
    "                mini_dict = {}\n",
    "                mini_dict['id'] = com['id']\n",
    "                mini_dict['from_id'] = com['from_id']\n",
    "                mini_dict['date'] = com['date']\n",
    "                mini_dict['text'] = com['text']\n",
    "                mini_dict['group'] = name\n",
    "                coms.append(mini_dict)\n",
    "                if 'thread' in com.keys():\n",
    "                    if com['thread']['count'] > 0:\n",
    "                        for reply in com['thread']['items']:\n",
    "                            min_dict = {}\n",
    "                            min_dict['id'] = reply['id']\n",
    "                            min_dict['from_id'] = reply['from_id']\n",
    "                            min_dict['date'] = reply['date']\n",
    "                            min_dict['text'] = reply['text']\n",
    "                            min_dict['group'] = name\n",
    "                            coms.append(min_dict)\n",
    "    return coms\n",
    "\n",
    "\n",
    "lentach_coms = json_to_list(lentach_data, 'Лентач')\n",
    "palata_coms = json_to_list(palata_data, 'Палата №6')\n",
    "ria_coms = json_to_list(ria_data, 'РИАНовости')"
   ]
  },
  {
   "cell_type": "code",
   "execution_count": null,
   "id": "846999df",
   "metadata": {},
   "outputs": [],
   "source": [
    "total_coms = []\n",
    "total_coms.extend(lentach_coms)\n",
    "total_coms.extend(palata_coms)\n",
    "total_coms.extend(ria_coms)\n",
    "\n",
    "df = pd.DataFrame(total_coms)\n",
    "df = df.drop_duplicates()"
   ]
  },
  {
   "cell_type": "code",
   "execution_count": null,
   "id": "71f0c242",
   "metadata": {},
   "outputs": [],
   "source": [
    "def get_date(form_data):\n",
    "    return datetime.utcfromtimestamp(form_data).strftime('%d.%m.%Y %H:%M')\n",
    "\n",
    "def get_year(d):\n",
    "    return str(d).split()[0].split('.')[2]\n",
    "\n",
    "df['datetime'] = df['date'].apply(get_date)\n",
    "df['year'] = df['datetime'].apply(get_year)"
   ]
  },
  {
   "cell_type": "code",
   "execution_count": null,
   "id": "49b6d107",
   "metadata": {},
   "outputs": [],
   "source": [
    "df['text'].replace('', np.nan, inplace=True)\n",
    "df = df.dropna()\n",
    "df = df.drop(['date'], axis=1)"
   ]
  },
  {
   "cell_type": "code",
   "execution_count": null,
   "id": "4c61ad8f",
   "metadata": {},
   "outputs": [],
   "source": [
    "def clear_name(t):\n",
    "    pattern = '\\[id\\d*\\|.*], '\n",
    "    return re.sub(pattern, '', t)\n",
    "\n",
    "df['text'] = df['text'].apply(clear_name)"
   ]
  },
  {
   "cell_type": "markdown",
   "id": "8efcd773",
   "metadata": {},
   "source": [
    "Соберём информацию о пользователях"
   ]
  },
  {
   "cell_type": "code",
   "execution_count": null,
   "id": "0d624bf8",
   "metadata": {},
   "outputs": [],
   "source": [
    "user_ids = set(list(df['from_id']))\n",
    "for user in tqdm(user_ids):\n",
    "    if user not in us.keys():\n",
    "        user_info = requests.get(\n",
    "                users_get_url,\n",
    "                params={\n",
    "                    'user_ids': user,\n",
    "                    'fields': 'bdate,city,sex',\n",
    "                    'access_token': TOKEN,\n",
    "                    'v': VERSION\n",
    "                }\n",
    "        ).json()\n",
    "        time.sleep(0.2)\n",
    "        if len(user_info['response']) > 0:\n",
    "            user_info = user_info['response'][0]\n",
    "            us[user] = user_info"
   ]
  },
  {
   "cell_type": "code",
   "execution_count": null,
   "id": "f8ccc431",
   "metadata": {},
   "outputs": [],
   "source": [
    "bdates = []\n",
    "from_ids = []\n",
    "sexes = []\n",
    "cities = []\n",
    "names = []\n",
    "for elem in us.values():\n",
    "    from_id = elem['id']\n",
    "    if 'bdate' in elem.keys():\n",
    "        this_bdate = elem['bdate']\n",
    "    else:\n",
    "        this_bdate = None\n",
    "    if 'sex' in elem.keys():\n",
    "        this_sex = elem['sex']\n",
    "    else:\n",
    "        this_sex = None\n",
    "    if 'city' in elem.keys():\n",
    "        this_city = elem['city']['title']\n",
    "    else:\n",
    "        this_city = None\n",
    "    if 'first_name' in elem.keys():\n",
    "        this_name = elem['first_name'] + ' ' + elem['last_name']\n",
    "    else:\n",
    "        this_name = None\n",
    "    bdates.append(this_bdate)\n",
    "    sexes.append(this_sex)\n",
    "    cities.append(this_city)\n",
    "    names.append(this_name)\n",
    "    from_ids.append(from_id)"
   ]
  },
  {
   "cell_type": "code",
   "execution_count": null,
   "id": "158d9211",
   "metadata": {},
   "outputs": [],
   "source": [
    "user_df = pd.DataFrame({'from_id': from_ids,\n",
    "            \"name\": names,\n",
    "            'bdate': bdates,\n",
    "            'city': cities,\n",
    "            'sex': sexes})"
   ]
  },
  {
   "cell_type": "code",
   "execution_count": null,
   "id": "c021572a",
   "metadata": {},
   "outputs": [],
   "source": [
    "mergedStuff = pd.merge(df, user_df, on=['from_id'], how='inner')"
   ]
  },
  {
   "cell_type": "code",
   "execution_count": null,
   "id": "76f626cd",
   "metadata": {},
   "outputs": [],
   "source": [
    "final_df = mergedStuff.drop_duplicates()"
   ]
  },
  {
   "cell_type": "code",
   "execution_count": null,
   "id": "5816caa2",
   "metadata": {},
   "outputs": [],
   "source": [
    "final_df.isna().sum()\n",
    "final_df = final_df.dropna()\n",
    "final_df.to_csv('final_df.csv')"
   ]
  }
 ],
 "metadata": {
  "kernelspec": {
   "display_name": "Python 3 (ipykernel)",
   "language": "python",
   "name": "python3"
  },
  "language_info": {
   "codemirror_mode": {
    "name": "ipython",
    "version": 3
   },
   "file_extension": ".py",
   "mimetype": "text/x-python",
   "name": "python",
   "nbconvert_exporter": "python",
   "pygments_lexer": "ipython3",
   "version": "3.10.0"
  }
 },
 "nbformat": 4,
 "nbformat_minor": 5
}
